{
 "cells": [
  {
   "cell_type": "code",
   "execution_count": 72,
   "metadata": {},
   "outputs": [],
   "source": [
    "import pandas as pd\n",
    "from scipy import stats\n",
    "import seaborn as sns\n",
    "import matplotlib.pyplot as plt\n",
    "import matplotlib.lines as mlines\n",
    "import matplotlib.transforms as mtransforms\n",
    "import matplotlib.patches as mpatches\n",
    "import numpy as np\n",
    "import scipy as scp\n",
    "#import scipy.stats as stats"
   ]
  },
  {
   "cell_type": "code",
   "execution_count": 73,
   "metadata": {},
   "outputs": [
    {
     "data": {
      "text/html": [
       "<div>\n",
       "<style scoped>\n",
       "    .dataframe tbody tr th:only-of-type {\n",
       "        vertical-align: middle;\n",
       "    }\n",
       "\n",
       "    .dataframe tbody tr th {\n",
       "        vertical-align: top;\n",
       "    }\n",
       "\n",
       "    .dataframe thead th {\n",
       "        text-align: right;\n",
       "    }\n",
       "</style>\n",
       "<table border=\"1\" class=\"dataframe\">\n",
       "  <thead>\n",
       "    <tr style=\"text-align: right;\">\n",
       "      <th></th>\n",
       "      <th>PMC_ID</th>\n",
       "      <th>PMC_Year</th>\n",
       "      <th>Journal</th>\n",
       "      <th>Impact Factor</th>\n",
       "      <th>Article Title</th>\n",
       "      <th>can be or cannot be</th>\n",
       "      <th>Secondary analysis</th>\n",
       "      <th>Data availability statement (yes/no)</th>\n",
       "      <th>Data availability (yes/no)</th>\n",
       "      <th>If Data availability = yes, where do they share data? (SRA/GEO/other)</th>\n",
       "      <th>...</th>\n",
       "      <th>If yes, notebook/Rmd</th>\n",
       "      <th>If yes, single/ multiple</th>\n",
       "      <th>Summary data (yes/ no/ partial)</th>\n",
       "      <th>Number of citations</th>\n",
       "      <th>Gender of the PI</th>\n",
       "      <th>Experience of PI/ Last author (Check their profile or webpage to see whether they are an associate/ assistant/ professor/ professor emiretus, etc)</th>\n",
       "      <th>PI/ last author's training background - CS/ Bioinformatics/ Other</th>\n",
       "      <th>PI (last author's) education level - PhD/PostDoc/ Master's etc</th>\n",
       "      <th>First author's education level</th>\n",
       "      <th>First author's training background (CS/ Bioinformatics/ Other)</th>\n",
       "    </tr>\n",
       "  </thead>\n",
       "  <tbody>\n",
       "    <tr>\n",
       "      <td>0</td>\n",
       "      <td>PMC7065968</td>\n",
       "      <td>2019</td>\n",
       "      <td>Nat_Biotechnol</td>\n",
       "      <td>37.0</td>\n",
       "      <td>Titrating gene expression using libraries of s...</td>\n",
       "      <td>Data based figure present, but code not availa...</td>\n",
       "      <td>yes</td>\n",
       "      <td>NaN</td>\n",
       "      <td>NaN</td>\n",
       "      <td>NaN</td>\n",
       "      <td>...</td>\n",
       "      <td>NaN</td>\n",
       "      <td>NaN</td>\n",
       "      <td>no</td>\n",
       "      <td>53</td>\n",
       "      <td>Male</td>\n",
       "      <td>Professor</td>\n",
       "      <td>Other</td>\n",
       "      <td>Phd</td>\n",
       "      <td>Phd</td>\n",
       "      <td>Other</td>\n",
       "    </tr>\n",
       "    <tr>\n",
       "      <td>1</td>\n",
       "      <td>PMC5678970</td>\n",
       "      <td>2017</td>\n",
       "      <td>Nat_Methods</td>\n",
       "      <td>27.0</td>\n",
       "      <td>Red-shifted luciferase-luciferin pairs for enh...</td>\n",
       "      <td>Data based figure present, but code not availa...</td>\n",
       "      <td>no</td>\n",
       "      <td>yes</td>\n",
       "      <td>yes</td>\n",
       "      <td>other</td>\n",
       "      <td>...</td>\n",
       "      <td>NaN</td>\n",
       "      <td>NaN</td>\n",
       "      <td>No</td>\n",
       "      <td>99</td>\n",
       "      <td>Male</td>\n",
       "      <td>Associate Professor</td>\n",
       "      <td>Other</td>\n",
       "      <td>Postdoc</td>\n",
       "      <td>Phd</td>\n",
       "      <td>Other</td>\n",
       "    </tr>\n",
       "    <tr>\n",
       "      <td>2</td>\n",
       "      <td>PMC6345375</td>\n",
       "      <td>2018</td>\n",
       "      <td>Nat_Methods</td>\n",
       "      <td>28.5</td>\n",
       "      <td>Modified aptamers enable quantitative sub-10-n...</td>\n",
       "      <td>Data based figure present, but code not availa...</td>\n",
       "      <td>yes</td>\n",
       "      <td>NaN</td>\n",
       "      <td>NaN</td>\n",
       "      <td>NaN</td>\n",
       "      <td>...</td>\n",
       "      <td>NaN</td>\n",
       "      <td>NaN</td>\n",
       "      <td>No</td>\n",
       "      <td>96</td>\n",
       "      <td>Male</td>\n",
       "      <td>Professor</td>\n",
       "      <td>Other</td>\n",
       "      <td>Postdoc</td>\n",
       "      <td>Postdoc</td>\n",
       "      <td>Other</td>\n",
       "    </tr>\n",
       "    <tr>\n",
       "      <td>3</td>\n",
       "      <td>PMC5372248</td>\n",
       "      <td>2017</td>\n",
       "      <td>Genome_Med</td>\n",
       "      <td>9.0</td>\n",
       "      <td>Ethnic and diet-related differences in the hea...</td>\n",
       "      <td>Data based figure present, but code not availa...</td>\n",
       "      <td>no</td>\n",
       "      <td>yes</td>\n",
       "      <td>no</td>\n",
       "      <td>NaN</td>\n",
       "      <td>...</td>\n",
       "      <td>NaN</td>\n",
       "      <td>NaN</td>\n",
       "      <td>No</td>\n",
       "      <td>76</td>\n",
       "      <td>Female</td>\n",
       "      <td>Professor</td>\n",
       "      <td>Other</td>\n",
       "      <td>MD,Phd</td>\n",
       "      <td>Postdoc</td>\n",
       "      <td>Other</td>\n",
       "    </tr>\n",
       "    <tr>\n",
       "      <td>4</td>\n",
       "      <td>PMC5073995</td>\n",
       "      <td>2016</td>\n",
       "      <td>BMC_Bioinformatics</td>\n",
       "      <td>2.5</td>\n",
       "      <td>Successful classification of cocaine dependenc...</td>\n",
       "      <td>Data based figure present, but code not availa...</td>\n",
       "      <td>no</td>\n",
       "      <td>no</td>\n",
       "      <td>no</td>\n",
       "      <td>NaN</td>\n",
       "      <td>...</td>\n",
       "      <td>NaN</td>\n",
       "      <td>NaN</td>\n",
       "      <td>No</td>\n",
       "      <td>20</td>\n",
       "      <td>Male</td>\n",
       "      <td>Emeritus  Professor</td>\n",
       "      <td>Other</td>\n",
       "      <td>MD</td>\n",
       "      <td>Doctor</td>\n",
       "      <td>CS</td>\n",
       "    </tr>\n",
       "  </tbody>\n",
       "</table>\n",
       "<p>5 rows × 28 columns</p>\n",
       "</div>"
      ],
      "text/plain": [
       "       PMC_ID  PMC_Year             Journal  Impact Factor  \\\n",
       "0  PMC7065968      2019      Nat_Biotechnol           37.0   \n",
       "1  PMC5678970      2017         Nat_Methods           27.0   \n",
       "2  PMC6345375      2018         Nat_Methods           28.5   \n",
       "3  PMC5372248      2017          Genome_Med            9.0   \n",
       "4  PMC5073995      2016  BMC_Bioinformatics            2.5   \n",
       "\n",
       "                                       Article Title  \\\n",
       "0  Titrating gene expression using libraries of s...   \n",
       "1  Red-shifted luciferase-luciferin pairs for enh...   \n",
       "2  Modified aptamers enable quantitative sub-10-n...   \n",
       "3  Ethnic and diet-related differences in the hea...   \n",
       "4  Successful classification of cocaine dependenc...   \n",
       "\n",
       "                                 can be or cannot be Secondary analysis  \\\n",
       "0  Data based figure present, but code not availa...                yes   \n",
       "1  Data based figure present, but code not availa...                 no   \n",
       "2  Data based figure present, but code not availa...                yes   \n",
       "3  Data based figure present, but code not availa...                 no   \n",
       "4  Data based figure present, but code not availa...                 no   \n",
       "\n",
       "  Data availability statement (yes/no) Data availability (yes/no)  \\\n",
       "0                                  NaN                        NaN   \n",
       "1                                  yes                        yes   \n",
       "2                                  NaN                        NaN   \n",
       "3                                  yes                         no   \n",
       "4                                   no                         no   \n",
       "\n",
       "  If Data availability = yes, where do they share data? (SRA/GEO/other)  ...  \\\n",
       "0                                                NaN                     ...   \n",
       "1                                              other                     ...   \n",
       "2                                                NaN                     ...   \n",
       "3                                                NaN                     ...   \n",
       "4                                                NaN                     ...   \n",
       "\n",
       "  If yes, notebook/Rmd If yes, single/ multiple  \\\n",
       "0                  NaN                      NaN   \n",
       "1                  NaN                      NaN   \n",
       "2                  NaN                      NaN   \n",
       "3                  NaN                      NaN   \n",
       "4                  NaN                      NaN   \n",
       "\n",
       "  Summary data (yes/ no/ partial) Number of citations  Gender of the PI  \\\n",
       "0                              no                  53              Male   \n",
       "1                              No                  99              Male   \n",
       "2                              No                  96              Male   \n",
       "3                              No                  76            Female   \n",
       "4                              No                  20              Male   \n",
       "\n",
       "  Experience of PI/ Last author (Check their profile or webpage to see whether they are an associate/ assistant/ professor/ professor emiretus, etc)  \\\n",
       "0                                          Professor                                                                                                   \n",
       "1                                Associate Professor                                                                                                   \n",
       "2                                          Professor                                                                                                   \n",
       "3                                          Professor                                                                                                   \n",
       "4                                Emeritus  Professor                                                                                                   \n",
       "\n",
       "  PI/ last author's training background - CS/ Bioinformatics/ Other  \\\n",
       "0                                              Other                  \n",
       "1                                              Other                  \n",
       "2                                              Other                  \n",
       "3                                              Other                  \n",
       "4                                              Other                  \n",
       "\n",
       "  PI (last author's) education level - PhD/PostDoc/ Master's etc  \\\n",
       "0                                                Phd               \n",
       "1                                            Postdoc               \n",
       "2                                            Postdoc               \n",
       "3                                             MD,Phd               \n",
       "4                                                 MD               \n",
       "\n",
       "  First author's education level  \\\n",
       "0                            Phd   \n",
       "1                            Phd   \n",
       "2                        Postdoc   \n",
       "3                        Postdoc   \n",
       "4                         Doctor   \n",
       "\n",
       "  First author's training background (CS/ Bioinformatics/ Other)  \n",
       "0                                              Other              \n",
       "1                                              Other              \n",
       "2                                              Other              \n",
       "3                                              Other              \n",
       "4                                                 CS              \n",
       "\n",
       "[5 rows x 28 columns]"
      ]
     },
     "execution_count": 73,
     "metadata": {},
     "output_type": "execute_result"
    }
   ],
   "source": [
    "df= pd.read_excel(\"/Users/sergheimangul/Desktop/top_50_all_info.xlsx\")\n",
    "df.head(5)"
   ]
  },
  {
   "cell_type": "code",
   "execution_count": null,
   "metadata": {},
   "outputs": [],
   "source": []
  },
  {
   "cell_type": "code",
   "execution_count": 74,
   "metadata": {},
   "outputs": [
    {
     "name": "stdout",
     "output_type": "stream",
     "text": [
      "no     27\n",
      "yes    23\n",
      "Name: Secondary analysis, dtype: int64\n"
     ]
    }
   ],
   "source": [
    "print(df['Secondary analysis'].value_counts())"
   ]
  },
  {
   "cell_type": "code",
   "execution_count": 75,
   "metadata": {},
   "outputs": [
    {
     "name": "stdout",
     "output_type": "stream",
     "text": [
      "yes    17\n",
      "no     10\n",
      "Name: Data availability statement (yes/no), dtype: int64\n"
     ]
    }
   ],
   "source": [
    "print(df['Data availability statement (yes/no)'].value_counts())"
   ]
  },
  {
   "cell_type": "code",
   "execution_count": 76,
   "metadata": {},
   "outputs": [
    {
     "name": "stdout",
     "output_type": "stream",
     "text": [
      "no     22\n",
      "yes     5\n",
      "Name: Data availability (yes/no), dtype: int64\n"
     ]
    }
   ],
   "source": [
    "## 268 primary analysis papers\n",
    "\n",
    "print(df['Data availability (yes/no)'].value_counts())"
   ]
  },
  {
   "cell_type": "code",
   "execution_count": 77,
   "metadata": {},
   "outputs": [
    {
     "data": {
      "image/png": "[encoded data removed]",
      "text/plain": [
       "<Figure size 360x360 with 1 Axes>"
      ]
     },
     "metadata": {},
     "output_type": "display_data"
    }
   ],
   "source": [
    "labels = 'Data available', 'Data unavailable'\n",
    "sizes = [5, 22]\n",
    "explode = (0, 0) \n",
    "colors = ['cornflowerblue', 'lightcoral']\n",
    "textprops = {\"fontsize\":14}\n",
    "\n",
    "# Plot\n",
    "fig1, ax1 = plt.subplots(figsize = (5,5))\n",
    "#plt.title(\"  Data availability\", fontsize=14)\n",
    "ax1.pie(sizes, explode=explode, labels=labels, autopct='%1.1f%%', startangle=300, textprops = textprops, colors=colors)\n",
    "ax1.axis('equal') \n",
    "\n",
    "sns.despine()\n",
    "plt.show()"
   ]
  },
  {
   "cell_type": "code",
   "execution_count": 78,
   "metadata": {},
   "outputs": [
    {
     "name": "stdout",
     "output_type": "stream",
     "text": [
      "other    4\n",
      "GEO      1\n",
      "Name: If Data availability = yes, where do they share data? (SRA/GEO/other), dtype: int64\n"
     ]
    }
   ],
   "source": [
    "print(df['If Data availability = yes, where do they share data? (SRA/GEO/other)'].value_counts())"
   ]
  },
  {
   "cell_type": "code",
   "execution_count": 79,
   "metadata": {},
   "outputs": [
    {
     "data": {
      "image/png": "[encoded data removed]",
      "text/plain": [
       "<Figure size 432x288 with 1 Axes>"
      ]
     },
     "metadata": {},
     "output_type": "display_data"
    }
   ],
   "source": [
    "colors=['cornflowerblue']   \n",
    "fig, ax= plt.subplots(figsize=(6,4)) \n",
    "\n",
    "dataavailability = ['Other','GEO']\n",
    "Percentage = [80,20]\n",
    "\n",
    "plt.yticks(fontsize=14)\n",
    "plt.xticks(fontsize=14)\n",
    "\n",
    "ax.barh(dataavailability, Percentage, color=colors)   \n",
    "\n",
    "plt.xlabel(\"Percentage\", fontsize=14)\n",
    "plt.ylabel(\"Data repository\", fontsize=14)\n",
    "\n",
    "for p in ax.patches:\n",
    "    width = p.get_width()    # get bar length\n",
    "    ax.text(width + 1,       # set the text at 1 unit right of the bar\n",
    "            p.get_y() + p.get_height() / 2, # get Y coordinate + X coordinate / 2\n",
    "            '{:1.1f}'.format(width)+'%', # set variable to display, 2 decimals\n",
    "            ha = 'left',   # horizontal alignment\n",
    "            va = 'center', fontsize=13)  # vertical alignment\n",
    "    \n",
    "sns.despine()\n",
    "plt.show()"
   ]
  },
  {
   "cell_type": "code",
   "execution_count": 80,
   "metadata": {},
   "outputs": [
    {
     "name": "stdout",
     "output_type": "stream",
     "text": [
      "GenBank                               1\n",
      "ImmuneACCESS                          1\n",
      "Korea National Institute of Health    1\n",
      "zip file                              1\n",
      "Name: If other database, specifiy which one, dtype: int64\n"
     ]
    }
   ],
   "source": [
    "print(df['If other database, specifiy which one'].value_counts())"
   ]
  },
  {
   "cell_type": "markdown",
   "metadata": {},
   "source": [
    "## Code Availability"
   ]
  },
  {
   "cell_type": "code",
   "execution_count": 81,
   "metadata": {},
   "outputs": [
    {
     "name": "stdout",
     "output_type": "stream",
     "text": [
      "No     27\n",
      "Yes    23\n",
      "Name: Code availability statement (Yes/No), dtype: int64\n"
     ]
    }
   ],
   "source": [
    "print(df['Code availability statement (Yes/No)'].value_counts())\n",
    "## No - 275\n",
    "## Yes - 205"
   ]
  },
  {
   "cell_type": "code",
   "execution_count": 82,
   "metadata": {},
   "outputs": [
    {
     "name": "stdout",
     "output_type": "stream",
     "text": [
      "No                             22\n",
      "Yes                            21\n",
      "No (available upon request)     2\n",
      "No (Link Expired)               2\n",
      "No (Link expired)               1\n",
      "No (Cannot find the code)       1\n",
      "No (Available upon request)     1\n",
      "Name: Code availability (Yes/No (reason)), dtype: int64\n"
     ]
    }
   ],
   "source": [
    "## Code availability irrespective of type of code\n",
    "print(df['Code availability (Yes/No (reason))'].value_counts())\n",
    "## Yes - 222\n",
    "## No - 258"
   ]
  },
  {
   "cell_type": "code",
   "execution_count": null,
   "metadata": {
    "scrolled": true
   },
   "outputs": [],
   "source": []
  },
  {
   "cell_type": "code",
   "execution_count": 83,
   "metadata": {},
   "outputs": [
    {
     "data": {
      "image/png": "[encoded data removed]",
      "text/plain": [
       "<Figure size 360x360 with 1 Axes>"
      ]
     },
     "metadata": {},
     "output_type": "display_data"
    }
   ],
   "source": [
    "labels = 'Code available', 'Code unavailable (Code based figure present in paper)' , 'Code unavailable (Code based figure not present in paper)'\n",
    "sizes = [21, 23, 6]\n",
    "explode = (0.05, 0.05,0) \n",
    "colors = ['gold', 'tomato', 'seagreen']\n",
    "textprops = {\"fontsize\":14}\n",
    "\n",
    "# Plot\n",
    "#plt.rcParams['font.size']=14\n",
    "fig1, ax1 = plt.subplots(figsize = (5,5))\n",
    "#plt.title(\"Code availability\", fontsize=14)\n",
    "ax1.pie(sizes, explode=explode, labels=labels, autopct='%1.2f%%', colors=colors, startangle=360, textprops = textprops)\n",
    "ax1.axis('equal')\n",
    "\n",
    "sns.despine()\n",
    "plt.savefig(r'C:\\Users\\dhrit\\code1.jpg', bbox_inches='tight', dpi=600)\n",
    "plt.show()"
   ]
  },
  {
   "cell_type": "code",
   "execution_count": 84,
   "metadata": {},
   "outputs": [
    {
     "name": "stdout",
     "output_type": "stream",
     "text": [
      "Pipeline      8\n",
      "Package       7\n",
      "software      3\n",
      "Analytical    2\n",
      "Tool          1\n",
      "Software      1\n",
      "Name: If Code availability = yes,  What kind of code do they share?, dtype: int64\n"
     ]
    }
   ],
   "source": [
    "print(df['If Code availability = yes,  What kind of code do they share?'].value_counts())"
   ]
  },
  {
   "cell_type": "code",
   "execution_count": 85,
   "metadata": {},
   "outputs": [
    {
     "name": "stdout",
     "output_type": "stream",
     "text": [
      "GitHub                   16\n",
      "downloadable file         1\n",
      "Zenodo                    1\n",
      "Others(Supplementary)     1\n",
      "Other(Website)            1\n",
      "Gitlab                    1\n",
      "Name: If Code availability = yes, where do they share code (supplementary/ GitHub/ other), dtype: int64\n"
     ]
    }
   ],
   "source": [
    "print(df['If Code availability = yes, where do they share code (supplementary/ GitHub/ other)'].value_counts())"
   ]
  },
  {
   "cell_type": "code",
   "execution_count": 86,
   "metadata": {},
   "outputs": [
    {
     "name": "stdout",
     "output_type": "stream",
     "text": [
      "GitHub                   16\n",
      "downloadable file         1\n",
      "Zenodo                    1\n",
      "Others(Supplementary)     1\n",
      "Other(Website)            1\n",
      "Gitlab                    1\n",
      "Name: If Code availability = yes, where do they share code (supplementary/ GitHub/ other), dtype: int64\n"
     ]
    }
   ],
   "source": [
    "## Analytical Code \n",
    "print(df['If Code availability = yes, where do they share code (supplementary/ GitHub/ other)'].value_counts())"
   ]
  },
  {
   "cell_type": "code",
   "execution_count": 87,
   "metadata": {},
   "outputs": [
    {
     "data": {
      "image/png": "[encoded data removed]",
      "text/plain": [
       "<Figure size 432x288 with 1 Axes>"
      ]
     },
     "metadata": {},
     "output_type": "display_data"
    }
   ],
   "source": [
    "fig3, ax = plt.subplots(edgecolor ='none', figsize=(6,4))\n",
    "#colors= ['lightsalmon', 'lightgreen', 'lightblue', 'yellow', 'pink']\n",
    "colors=[\"gold\"]\n",
    "textprops = {\"fontsize\":14}\n",
    "\n",
    "#codeavailability = ['GitHub', 'Supplementary Section', 'Supplementary and GitHub', 'Zenodo', 'WebPage']\n",
    "#Supp&GitHub + GitHub = 1 + 33 = 34\n",
    "codeavailability = ['GitHub',  'WebPage', 'Supplementary\\n Materials', 'Zenodo', 'Downloadable']\n",
    "count = [16,1,1,1,1]\n",
    "Percentage = [76.19, 4.76,4.76,4.76,4.76]\n",
    "\n",
    "ax.barh(codeavailability, Percentage, color=colors) \n",
    "#ax.axis(\"off\")\n",
    "##to get horizontal barplot with percentage\n",
    "for p in ax.patches:\n",
    "    width = p.get_width()    # get bar length\n",
    "    ax.text(width + 1,       # set the text at 1 unit right of the bar\n",
    "            p.get_y() + p.get_height() / 2, # get Y coordinate + X coordinate / 2\n",
    "            '{:1.1f}'.format(width)+'%', # set variable to display, 2 decimals\n",
    "            ha = 'left',   # horizontal alignment\n",
    "            va = 'center', fontsize=13)  # vertical alignment\n",
    "\n",
    "plt.yticks(fontsize=14)\n",
    "plt.xticks(fontsize=14)\n",
    "\n",
    "plt.xlabel(\"Percentage\", fontsize=14)\n",
    "plt.ylabel(\"Code repository\", fontsize=14)\n",
    "\n",
    "sns.despine()\n",
    "plt.savefig(r'C:\\Users\\dhrit\\code1.jpg', bbox_inches='tight', dpi=600)\n",
    "plt.show()"
   ]
  },
  {
   "cell_type": "markdown",
   "metadata": {},
   "source": [
    "## Number of citations and code availability"
   ]
  },
  {
   "cell_type": "code",
   "execution_count": 88,
   "metadata": {},
   "outputs": [
    {
     "name": "stdout",
     "output_type": "stream",
     "text": [
      "MannwhitneyuResult(statistic=334.0, pvalue=0.28426492699809597)\n",
      "MannwhitneyuResult(statistic=334.0, pvalue=0.7223646769221379)\n",
      "MannwhitneyuResult(statistic=334.0, pvalue=0.5685298539961919)\n"
     ]
    }
   ],
   "source": [
    "#x=df['Number of citations']\n",
    "#x.dropna()\n",
    "\n",
    "df['Number of citations'] = df['Number of citations'].apply(lambda x:0 if type(x)!=int else x)\n",
    "available = df.loc[df[\"Code availability (Yes/No)\"]==\"Yes\",\"Number of citations\"]\n",
    "#no =(df.loc[df[\"Code availability (Yes/No)\"]==\"No\",\"Number of citations\"]).dropna()\n",
    "no =df.loc[df[\"Code availability (Yes/No)\"]==\"No\",\"Number of citations\"]\n",
    "\n",
    "mwu_results = stats.mannwhitneyu(available, no, alternative=\"greater\")\n",
    "mwu2_results = stats.mannwhitneyu(available, no, alternative=\"less\")\n",
    "mwu3_results = stats.mannwhitneyu(available, no, alternative=\"two-sided\")\n",
    "\n",
    "print(mwu_results)\n",
    "print(mwu2_results)\n",
    "print(mwu3_results)"
   ]
  },
  {
   "cell_type": "code",
   "execution_count": 89,
   "metadata": {},
   "outputs": [],
   "source": [
    "df['Number of citations'] = df['Number of citations'].apply(lambda x:0 if type(x)!=int else x)"
   ]
  },
  {
   "cell_type": "code",
   "execution_count": 90,
   "metadata": {},
   "outputs": [
    {
     "data": {
      "text/plain": [
       "set()"
      ]
     },
     "execution_count": 90,
     "metadata": {},
     "output_type": "execute_result"
    }
   ],
   "source": [
    "set([i for i in no.values if type(i)==str])"
   ]
  },
  {
   "cell_type": "code",
   "execution_count": null,
   "metadata": {},
   "outputs": [],
   "source": []
  },
  {
   "cell_type": "code",
   "execution_count": 91,
   "metadata": {},
   "outputs": [
    {
     "data": {
      "text/plain": [
       "(array([0, 1]), <a list of 2 Text xticklabel objects>)"
      ]
     },
     "execution_count": 91,
     "metadata": {},
     "output_type": "execute_result"
    },
    {
     "data": {
      "image/png": "[encoded data removed]",
      "text/plain": [
       "<Figure size 360x360 with 1 Axes>"
      ]
     },
     "metadata": {},
     "output_type": "display_data"
    }
   ],
   "source": [
    "plt.figure(figsize=(5,5))\n",
    "sns.set_style('white')\n",
    "sns.set_context('talk')\n",
    "sns.stripplot(data=df, x=\"Code availability (Yes/No)\", y=\"Number of citations\",\n",
    "             order=[\"Yes\", \"No\"])\n",
    "sns.barplot(x=\"Code availability (Yes/No)\", y=\"Number of citations\", data=df, \n",
    "            estimator=np.mean, capsize=.2, facecolor=\"white\", edgecolor=\"black\",\n",
    "           order=[\"Yes\", \"No\"])\n",
    "\n",
    "\n",
    "plt.xlabel(\"Code Availability\", fontsize=14)\n",
    "plt.yscale('log')\n",
    "plt.ylim(ymax=1400)\n",
    "plt.ylabel(\"Number of Citations\", fontsize=14)\n",
    "plt.yticks(fontsize=14)\n",
    "plt.xticks(fontsize=14)\n",
    "\n",
    "#pvalue = mpatches.Patch(color =\"white\", label='p=0.08')\n",
    "\n",
    "#plt.legend(handles=[pvalue], fontsize=12)\n"
   ]
  },
  {
   "cell_type": "code",
   "execution_count": 92,
   "metadata": {},
   "outputs": [
    {
     "name": "stdout",
     "output_type": "stream",
     "text": [
      "MannwhitneyuResult(statistic=54.0, pvalue=0.537320457884646)\n",
      "MannwhitneyuResult(statistic=54.0, pvalue=0.4875436715848987)\n",
      "MannwhitneyuResult(statistic=54.0, pvalue=0.9750873431697974)\n"
     ]
    }
   ],
   "source": [
    "#x=df['Number of citations']\n",
    "#x.dropna()\n",
    "\n",
    "df['Number of citations'] = df['Number of citations'].apply(lambda x:0 if type(x)!=int else x)\n",
    "available = df.loc[df[\"Data availability (yes/no)\"]==\"yes\",\"Number of citations\"]\n",
    "#no =(df.loc[df[\"Code availability (Yes/No)\"]==\"No\",\"Number of citations\"]).dropna()\n",
    "no =df.loc[df[\"Data availability (yes/no)\"]==\"no\",\"Number of citations\"]\n",
    "\n",
    "mwu_results = stats.mannwhitneyu(available, no, alternative=\"greater\")\n",
    "mwu2_results = stats.mannwhitneyu(available, no, alternative=\"less\")\n",
    "mwu3_results = stats.mannwhitneyu(available, no, alternative=\"two-sided\")\n",
    "\n",
    "print(mwu_results)\n",
    "print(mwu2_results)\n",
    "print(mwu3_results)"
   ]
  },
  {
   "cell_type": "code",
   "execution_count": 93,
   "metadata": {},
   "outputs": [
    {
     "data": {
      "text/plain": [
       "(array([0, 1]), <a list of 2 Text xticklabel objects>)"
      ]
     },
     "execution_count": 93,
     "metadata": {},
     "output_type": "execute_result"
    },
    {
     "data": {
      "image/png": "[encoded data removed]",
      "text/plain": [
       "<Figure size 360x360 with 1 Axes>"
      ]
     },
     "metadata": {},
     "output_type": "display_data"
    }
   ],
   "source": [
    "plt.figure(figsize=(5,5))\n",
    "sns.set_style('white')\n",
    "sns.set_context('talk')\n",
    "sns.stripplot(data=df, x=\"Data availability (yes/no)\", y=\"Number of citations\",\n",
    "             order=[\"yes\", \"no\"])\n",
    "sns.barplot(x=\"Data availability (yes/no)\", y=\"Number of citations\", data=df, \n",
    "            estimator=np.mean, capsize=.2, facecolor=\"white\", edgecolor=\"black\",\n",
    "           order=[\"yes\", \"no\"])\n",
    "\n",
    "\n",
    "plt.xlabel(\"Data Availability\", fontsize=14)\n",
    "plt.yscale('log')\n",
    "plt.ylim(ymax=1300)\n",
    "plt.ylabel(\"Number of Citations\", fontsize=14)\n",
    "plt.yticks(fontsize=14)\n",
    "plt.xticks(fontsize=14)\n",
    "\n",
    "#pvalue = mpatches.Patch(color =\"white\", label='p=0.08')\n",
    "\n",
    "#plt.legend(handles=[pvalue], fontsize=12)"
   ]
  },
  {
   "cell_type": "code",
   "execution_count": 94,
   "metadata": {},
   "outputs": [
    {
     "name": "stdout",
     "output_type": "stream",
     "text": [
      "   Year  PercentageIncrease\n",
      "0  2016                6.71\n",
      "1  2017               16.41\n",
      "2  2018               23.88\n",
      "3  2019               26.11\n",
      "4  2020               30.97\n",
      "5  2021               36.19\n"
     ]
    },
    {
     "data": {
      "image/png": "[encoded data removed]",
      "text/plain": [
       "<Figure size 504x360 with 1 Axes>"
      ]
     },
     "metadata": {},
     "output_type": "display_data"
    }
   ],
   "source": [
    "## Data availability trend\n",
    "data = {'Year':['2016', '2017', '2018', '2019', '2020', '2021'],  \n",
    "        'PercentageIncrease':[6.71, 16.41, 23.88, 26.11, 30.97, 36.19]}\n",
    "\n",
    "df4 = pd.DataFrame(data, columns=['Year','PercentageIncrease'])\n",
    "\n",
    "print(df4)\n",
    "\n",
    "fig, ax= plt.subplots(figsize = (7,5)) \n",
    "#colors = ['#009FFA']\n",
    "colors=['cornflowerblue']\n",
    "sns.set_style('white')\n",
    "sns.set_context('talk')\n",
    "\n",
    "overall = sns.barplot(data = df4, x = 'Year', y = 'PercentageIncrease', ci=None, palette=colors)\n",
    "\n",
    "total = 100\n",
    "for i in ax.patches:\n",
    "    # get_x pulls left or right; get_height pushes up or down\n",
    "    ax.text(i.get_x()+0.25, i.get_height()+.6, \\\n",
    "            str(round((i.get_height()/total)*100, 1))+'%', fontsize=13,\n",
    "                color='black')\n",
    "\n",
    "plt.yticks(fontsize=14)\n",
    "plt.xticks(fontsize=14)\n",
    "plt.xlabel(\"\")\n",
    "plt.ylabel(\"Percentage of papers sharing data\", fontsize=14)\n",
    "#plt.title(\"Code availability across 2016-2020\", fontsize=14)\n",
    "#plt.tight_layout()\n",
    "sns.despine()\n",
    "#plt.savefig(r'C:\\Users\\dhrit\\code3.jpg', bbox_inches='tight', dpi=600)\n",
    "plt.show()"
   ]
  },
  {
   "cell_type": "code",
   "execution_count": 95,
   "metadata": {},
   "outputs": [
    {
     "name": "stdout",
     "output_type": "stream",
     "text": [
      "   Year  PercentageIncrease\n",
      "0  2016                0.83\n",
      "1  2017                2.08\n",
      "2  2018                3.12\n",
      "3  2019                3.54\n",
      "4  2020                5.41\n",
      "5  2021                8.95\n"
     ]
    },
    {
     "data": {
      "image/png": "[encoded data removed]",
      "text/plain": [
       "<Figure size 504x360 with 1 Axes>"
      ]
     },
     "metadata": {},
     "output_type": "display_data"
    }
   ],
   "source": [
    "## Code availability trend\n",
    "data = {'Year':['2016', '2017', '2018', '2019', '2020', '2021'],  \n",
    "        'PercentageIncrease':[0.83, 2.08, 3.12, 3.54, 5.41, 8.95]}\n",
    "\n",
    "df4 = pd.DataFrame(data, columns=['Year','PercentageIncrease'])\n",
    "\n",
    "print(df4)\n",
    "\n",
    "fig, ax= plt.subplots(figsize = (7,5)) \n",
    "#colors = ['#009FFA']\n",
    "colors=['gold']\n",
    "sns.set_style('white')\n",
    "sns.set_context('talk')\n",
    "\n",
    "overall = sns.barplot(data = df4, x = 'Year', y = 'PercentageIncrease', ci=None, palette=colors)\n",
    "\n",
    "total = 100\n",
    "for i in ax.patches:\n",
    "    # get_x pulls left or right; get_height pushes up or down\n",
    "    ax.text(i.get_x()+0.25, i.get_height()+.6, \\\n",
    "            str(round((i.get_height()/total)*100, 1))+'%', fontsize=13,\n",
    "                color='black')\n",
    "\n",
    "plt.yticks(fontsize=14)\n",
    "plt.xticks(fontsize=14)\n",
    "plt.xlabel(\"\")\n",
    "plt.ylabel(\"Percentage of papers sharing code\", fontsize=14)\n",
    "#plt.title(\"Code availability across 2016-2020\", fontsize=14)\n",
    "#plt.tight_layout()\n",
    "sns.despine()\n",
    "#plt.savefig(r'C:\\Users\\dhrit\\code3.jpg', bbox_inches='tight', dpi=600)\n",
    "plt.show()\n"
   ]
  },
  {
   "cell_type": "markdown",
   "metadata": {},
   "source": [
    "### Journal policies and code and data availability"
   ]
  },
  {
   "cell_type": "code",
   "execution_count": 96,
   "metadata": {},
   "outputs": [
    {
     "name": "stdout",
     "output_type": "stream",
     "text": [
      "              Journal  Total  Share Code  Share Data\n",
      "0      Bioinformatics     60           7           3\n",
      "1  BMC_Bioinformatics     60           1           2\n",
      "2         Genome_Biol     60           5          17\n",
      "3          Genome_Med     60           4          12\n",
      "4      Nat_Biotechnol     60           5          17\n",
      "5           Nat_Genet     60           7          18\n",
      "6         Nat_Methods     60          13          15\n",
      "7   Nucleic_Acids_Res     60           1          13\n"
     ]
    }
   ],
   "source": [
    "data2 = {'Journal':['Bioinformatics', 'BMC_Bioinformatics', 'Genome_Biol','Genome_Med','Nat_Biotechnol', 'Nat_Genet',\n",
    "                    'Nat_Methods','Nucleic_Acids_Res'], \n",
    "        'Total':[60,60,60,60,60,60,60,60], \n",
    "        'Share Code':[7, 1, 5, 4, 5, 7 ,13, 1],\n",
    "        'Share Data':[3,2,17,12,17,18,15,13]}\n",
    "df5 = pd.DataFrame(data2, columns=['Journal','Total', 'Share Code', 'Share Data'])\n",
    "print(df5)"
   ]
  },
  {
   "cell_type": "code",
   "execution_count": 97,
   "metadata": {},
   "outputs": [
    {
     "data": {
      "text/html": [
       "<div>\n",
       "<style scoped>\n",
       "    .dataframe tbody tr th:only-of-type {\n",
       "        vertical-align: middle;\n",
       "    }\n",
       "\n",
       "    .dataframe tbody tr th {\n",
       "        vertical-align: top;\n",
       "    }\n",
       "\n",
       "    .dataframe thead th {\n",
       "        text-align: right;\n",
       "    }\n",
       "</style>\n",
       "<table border=\"1\" class=\"dataframe\">\n",
       "  <thead>\n",
       "    <tr style=\"text-align: right;\">\n",
       "      <th></th>\n",
       "      <th>Journal</th>\n",
       "      <th>Journal Name</th>\n",
       "      <th>Total</th>\n",
       "      <th>Share Code</th>\n",
       "      <th>Share Data</th>\n",
       "      <th>Code Sharing Policy</th>\n",
       "      <th>Data Sharing Policy</th>\n",
       "      <th>Code Sharing Percentage</th>\n",
       "      <th>Data Sharing Percentage</th>\n",
       "    </tr>\n",
       "  </thead>\n",
       "  <tbody>\n",
       "    <tr>\n",
       "      <td>0</td>\n",
       "      <td>Journal 1</td>\n",
       "      <td>Bioinformatics</td>\n",
       "      <td>60</td>\n",
       "      <td>7</td>\n",
       "      <td>3</td>\n",
       "      <td>Mandatory</td>\n",
       "      <td>Mandatory</td>\n",
       "      <td>11.66</td>\n",
       "      <td>5.00</td>\n",
       "    </tr>\n",
       "    <tr>\n",
       "      <td>1</td>\n",
       "      <td>Journal 2</td>\n",
       "      <td>BMC_Bioinformatics</td>\n",
       "      <td>60</td>\n",
       "      <td>1</td>\n",
       "      <td>2</td>\n",
       "      <td>Encouraged</td>\n",
       "      <td>Encouraged</td>\n",
       "      <td>1.66</td>\n",
       "      <td>3.33</td>\n",
       "    </tr>\n",
       "    <tr>\n",
       "      <td>2</td>\n",
       "      <td>Journal 3</td>\n",
       "      <td>Genome_Biol</td>\n",
       "      <td>60</td>\n",
       "      <td>5</td>\n",
       "      <td>17</td>\n",
       "      <td>Mandatory</td>\n",
       "      <td>Mandatory</td>\n",
       "      <td>8.33</td>\n",
       "      <td>28.33</td>\n",
       "    </tr>\n",
       "    <tr>\n",
       "      <td>3</td>\n",
       "      <td>Journal 4</td>\n",
       "      <td>Genome_Med</td>\n",
       "      <td>60</td>\n",
       "      <td>4</td>\n",
       "      <td>12</td>\n",
       "      <td>Encouraged</td>\n",
       "      <td>Encouraged</td>\n",
       "      <td>6.66</td>\n",
       "      <td>20.00</td>\n",
       "    </tr>\n",
       "    <tr>\n",
       "      <td>4</td>\n",
       "      <td>Journal 5</td>\n",
       "      <td>Nat_Biotechnol</td>\n",
       "      <td>60</td>\n",
       "      <td>5</td>\n",
       "      <td>17</td>\n",
       "      <td>Mandatory</td>\n",
       "      <td>Mandatory</td>\n",
       "      <td>8.33</td>\n",
       "      <td>28.33</td>\n",
       "    </tr>\n",
       "    <tr>\n",
       "      <td>5</td>\n",
       "      <td>Journal 6</td>\n",
       "      <td>Nat_Genet</td>\n",
       "      <td>60</td>\n",
       "      <td>7</td>\n",
       "      <td>18</td>\n",
       "      <td>Mandatory</td>\n",
       "      <td>Mandatory</td>\n",
       "      <td>11.66</td>\n",
       "      <td>30.00</td>\n",
       "    </tr>\n",
       "    <tr>\n",
       "      <td>6</td>\n",
       "      <td>Journal 7</td>\n",
       "      <td>Nat_Methods</td>\n",
       "      <td>60</td>\n",
       "      <td>13</td>\n",
       "      <td>15</td>\n",
       "      <td>Mandatory</td>\n",
       "      <td>Mandatory</td>\n",
       "      <td>21.66</td>\n",
       "      <td>25.00</td>\n",
       "    </tr>\n",
       "    <tr>\n",
       "      <td>7</td>\n",
       "      <td>Journal 8</td>\n",
       "      <td>Nucleic_Acids_Res</td>\n",
       "      <td>60</td>\n",
       "      <td>1</td>\n",
       "      <td>13</td>\n",
       "      <td>Encouraged</td>\n",
       "      <td>Mandatory</td>\n",
       "      <td>1.66</td>\n",
       "      <td>21.66</td>\n",
       "    </tr>\n",
       "  </tbody>\n",
       "</table>\n",
       "</div>"
      ],
      "text/plain": [
       "     Journal        Journal Name  Total  Share Code  Share Data  \\\n",
       "0  Journal 1      Bioinformatics     60           7           3   \n",
       "1  Journal 2  BMC_Bioinformatics     60           1           2   \n",
       "2  Journal 3         Genome_Biol     60           5          17   \n",
       "3  Journal 4          Genome_Med     60           4          12   \n",
       "4  Journal 5      Nat_Biotechnol     60           5          17   \n",
       "5  Journal 6           Nat_Genet     60           7          18   \n",
       "6  Journal 7         Nat_Methods     60          13          15   \n",
       "7  Journal 8   Nucleic_Acids_Res     60           1          13   \n",
       "\n",
       "  Code Sharing Policy Data Sharing Policy  Code Sharing Percentage  \\\n",
       "0           Mandatory           Mandatory                    11.66   \n",
       "1          Encouraged          Encouraged                     1.66   \n",
       "2           Mandatory           Mandatory                     8.33   \n",
       "3          Encouraged          Encouraged                     6.66   \n",
       "4           Mandatory           Mandatory                     8.33   \n",
       "5           Mandatory           Mandatory                    11.66   \n",
       "6           Mandatory           Mandatory                    21.66   \n",
       "7          Encouraged           Mandatory                     1.66   \n",
       "\n",
       "   Data Sharing Percentage  \n",
       "0                     5.00  \n",
       "1                     3.33  \n",
       "2                    28.33  \n",
       "3                    20.00  \n",
       "4                    28.33  \n",
       "5                    30.00  \n",
       "6                    25.00  \n",
       "7                    21.66  "
      ]
     },
     "execution_count": 97,
     "metadata": {},
     "output_type": "execute_result"
    }
   ],
   "source": [
    "data9 = {'Journal':['Journal 1', 'Journal 2', 'Journal 3', 'Journal 4', 'Journal 5', 'Journal 6',\n",
    "                    'Journal 7', 'Journal 8'],\n",
    "        'Journal Name': ['Bioinformatics', 'BMC_Bioinformatics', 'Genome_Biol', 'Genome_Med',\n",
    "                         'Nat_Biotechnol', 'Nat_Genet', 'Nat_Methods','Nucleic_Acids_Res'],\n",
    "        'Total':[60,60,60,60,60,60,60,60], \n",
    "        'Share Code':[7, 1, 5, 4, 5, 7 ,13, 1],\n",
    "        'Share Data':[3,2,17,12,17,18,15,13],\n",
    "        'Code Sharing Policy':['Mandatory', 'Encouraged', 'Mandatory', 'Encouraged', 'Mandatory','Mandatory','Mandatory','Encouraged'],\n",
    "        'Data Sharing Policy':['Mandatory', 'Encouraged', 'Mandatory', 'Encouraged', 'Mandatory','Mandatory','Mandatory','Mandatory'], \n",
    "        'Code Sharing Percentage': [11.66, 1.66,8.33,6.66,8.33,11.66,21.66,1.66],\n",
    "        'Data Sharing Percentage': [5,3.33,28.33,20,28.33,30,25,21.66]}\n",
    "df9 = pd.DataFrame(data9, columns=['Journal','Journal Name','Total', 'Share Code', 'Share Data',\n",
    "                                   'Code Sharing Policy', 'Data Sharing Policy', 'Code Sharing Percentage', 'Data Sharing Percentage'])\n",
    "df9"
   ]
  },
  {
   "cell_type": "code",
   "execution_count": 98,
   "metadata": {},
   "outputs": [
    {
     "data": {
      "image/png": "[encoded data removed]",
      "text/plain": [
       "<Figure size 504x360 with 1 Axes>"
      ]
     },
     "metadata": {},
     "output_type": "display_data"
    }
   ],
   "source": [
    "fig, ax= plt.subplots(figsize = (7,5)) \n",
    "\n",
    "#darkcyan=Mandatory\n",
    "#paleturquoise=Encouraged\n",
    "colors = ['darkcyan', 'paleturquoise', 'darkcyan','paleturquoise','darkcyan', 'darkcyan','darkcyan','darkcyan']\n",
    "\n",
    "sns.set_style('white')\n",
    "sns.set_context('talk')\n",
    "\n",
    "overall = sns.barplot(data = df9, x = 'Data Sharing Percentage', y =  'Journal', ci=None, palette=colors)\n",
    "\n",
    "plt.yticks(fontsize=14)\n",
    "plt.xticks(fontsize=14)\n",
    "plt.ylabel('')\n",
    "plt.xlabel('Percentage',fontsize=14)\n",
    "\n",
    "##to get horizontal barplot with percentage\n",
    "for p in ax.patches:\n",
    "    width = p.get_width()    # get bar length\n",
    "    ax.text(width + 1,       # set the text at 1 unit right of the bar\n",
    "            p.get_y() + p.get_height() / 2, # get Y coordinate + X coordinate / 2\n",
    "            '{:1.1f}'.format(width)+'%', # set variable to display, 2 decimals\n",
    "            ha = 'left',   # horizontal alignment\n",
    "            va = 'center', fontsize=13)  # vertical alignment\n",
    "\n",
    "Encouraged = mpatches.Patch(color='paleturquoise', label='Encouraged')\n",
    "Mandatory= mpatches.Patch(color='darkcyan', label='Mandatory')\n",
    "\n",
    "plt.legend(handles=[Encouraged,Mandatory], fontsize=12)\n",
    "plt.title('Data sharing policies', fontsize=14)\n",
    "\n",
    "sns.despine()"
   ]
  },
  {
   "cell_type": "code",
   "execution_count": 99,
   "metadata": {},
   "outputs": [
    {
     "data": {
      "image/png": "[encoded data removed]",
      "text/plain": [
       "<Figure size 504x360 with 1 Axes>"
      ]
     },
     "metadata": {},
     "output_type": "display_data"
    }
   ],
   "source": [
    "fig, ax= plt.subplots(figsize = (7,5)) \n",
    "#darkcyan=Mandatory\n",
    "#c=Encouraged\n",
    "#paleturquoise=No Policy\n",
    "colors = ['darkcyan', 'paleturquoise', 'darkcyan','paleturquoise','darkcyan', 'darkcyan','darkcyan','paleturquoise']\n",
    "\n",
    "sns.set_style('white')\n",
    "sns.set_context('talk')\n",
    "\n",
    "overall = sns.barplot(data = df9, x = 'Code Sharing Percentage', y =  'Journal', ci=None, palette=colors)\n",
    "\n",
    "plt.yticks(fontsize=14)\n",
    "plt.xticks(fontsize=14)\n",
    "plt.ylabel('')\n",
    "plt.xlabel('Percentage',fontsize=14)\n",
    "\n",
    "##to get horizontal barplot with percentage\n",
    "for p in ax.patches:\n",
    "    width = p.get_width()    # get bar length\n",
    "    ax.text(width + 1,       # set the text at 1 unit right of the bar\n",
    "            p.get_y() + p.get_height() / 2, # get Y coordinate + X coordinate / 2\n",
    "            '{:1.1f}'.format(width)+'%', # set variable to display, 2 decimals\n",
    "            ha = 'left',   # horizontal alignment\n",
    "            va = 'center', fontsize=13)  # vertical alignment\n",
    "\n",
    "Encouraged = mpatches.Patch(color='paleturquoise', label='Encouraged')\n",
    "Mandatory= mpatches.Patch(color='darkcyan', label='Mandatory')\n",
    "\n",
    "plt.legend(handles=[Encouraged,Mandatory], fontsize=12)\n",
    "plt.title('Code sharing policies', fontsize=14)\n",
    "\n",
    "sns.despine()"
   ]
  },
  {
   "cell_type": "markdown",
   "metadata": {},
   "source": [
    "### Code and data availability statements"
   ]
  },
  {
   "cell_type": "markdown",
   "metadata": {},
   "source": [
    "Data and statement available - 88 (88/268*100 = 32.83%);\n",
    "Statement available no data- 81 (81/268*100 = 30.22%);\n",
    "No statement no data - 90 (90/268*100 = 33.58%);\n",
    "No statement but data avail- 9 (3.35%);\n",
    "\t\n",
    "Code and statement available - 35 (35/480*100 = 7.29%);\n",
    "Statement available no code - 170 (170/480*100 = 35.41%);\n",
    "No statement no code - 267 (55.62%);\n",
    "No statement but code avail - 8 (1.66%);"
   ]
  },
  {
   "cell_type": "code",
   "execution_count": 100,
   "metadata": {},
   "outputs": [
    {
     "name": "stdout",
     "output_type": "stream",
     "text": [
      "yes    17\n",
      "no     10\n",
      "Name: Data availability statement (yes/no), dtype: int64\n",
      "no     22\n",
      "yes     5\n",
      "Name: Data availability (yes/no), dtype: int64\n"
     ]
    }
   ],
   "source": [
    "print(df['Data availability statement (yes/no)'].value_counts())\n",
    "print(df['Data availability (yes/no)'].value_counts())"
   ]
  },
  {
   "cell_type": "code",
   "execution_count": 101,
   "metadata": {},
   "outputs": [
    {
     "name": "stdout",
     "output_type": "stream",
     "text": [
      "No     27\n",
      "Yes    23\n",
      "Name: Code availability statement (Yes/No), dtype: int64\n",
      "No     29\n",
      "Yes    21\n",
      "Name: Code availability (Yes/No), dtype: int64\n"
     ]
    }
   ],
   "source": [
    "print(df['Code availability statement (Yes/No)'].value_counts())\n",
    "print(df['Code availability (Yes/No)'].value_counts())"
   ]
  },
  {
   "cell_type": "code",
   "execution_count": 102,
   "metadata": {},
   "outputs": [
    {
     "name": "stdout",
     "output_type": "stream",
     "text": [
      "                  Availability  Percentage\n",
      "0  Data Availability Statement       62.96\n",
      "1            Data Availability       18.51\n"
     ]
    },
    {
     "data": {
      "image/png": "[encoded data removed]",
      "text/plain": [
       "<Figure size 288x144 with 1 Axes>"
      ]
     },
     "metadata": {},
     "output_type": "display_data"
    }
   ],
   "source": [
    "## Statement vs sharing \n",
    "data = {'Availability':['Data Availability Statement','Data Availability'],  \n",
    "        'Percentage':[62.96, 18.51]}\n",
    "\n",
    "df4 = pd.DataFrame(data, columns=['Availability','Percentage'])\n",
    "print(df4)\n",
    "\n",
    "fig, ax= plt.subplots(figsize = (4,2)) \n",
    "#cornflowerblue - data\n",
    "#gold - code\n",
    "colors = ['cornflowerblue', 'cornflowerblue']\n",
    "\n",
    "sns.set_style('white')\n",
    "sns.set_context('talk')\n",
    "\n",
    "overall = sns.barplot(data = df4, x = 'Percentage', y =  'Availability', ci=None, palette=colors)\n",
    "\n",
    "plt.yticks(fontsize=14)\n",
    "plt.xticks(fontsize=14)\n",
    "plt.ylabel('')\n",
    "plt.xlabel('Percentage',fontsize=14)\n",
    "\n",
    "##to get horizontal barplot with percentage\n",
    "for p in ax.patches:\n",
    "    width = p.get_width()    # get bar length\n",
    "    ax.text(width + 1,       # set the text at 1 unit right of the bar\n",
    "            p.get_y() + p.get_height() / 2, # get Y coordinate + X coordinate / 2\n",
    "            '{:1.1f}'.format(width)+'%', # set variable to display, 2 decimals\n",
    "            ha = 'left',   # horizontal alignment\n",
    "            va = 'center', fontsize=14)  # vertical alignment\n",
    "\n",
    "sns.despine()"
   ]
  },
  {
   "cell_type": "code",
   "execution_count": 103,
   "metadata": {},
   "outputs": [
    {
     "name": "stdout",
     "output_type": "stream",
     "text": [
      "                  Availability  Percentage\n",
      "0  Code Availability Statement          46\n",
      "1            Code Availability          42\n"
     ]
    },
    {
     "data": {
      "image/png": "[encoded data removed]",
      "text/plain": [
       "<Figure size 288x144 with 1 Axes>"
      ]
     },
     "metadata": {},
     "output_type": "display_data"
    }
   ],
   "source": [
    "## Statement vs sharing \n",
    "data = {'Availability':['Code Availability Statement', 'Code Availability'],  \n",
    "        'Percentage':[46, 42]}\n",
    "\n",
    "\n",
    "df4 = pd.DataFrame(data, columns=['Availability','Percentage'])\n",
    "print(df4)\n",
    "\n",
    "fig, ax= plt.subplots(figsize = (4,2)) \n",
    "#cornflowerblue - data\n",
    "#gold - code\n",
    "colors = ['gold', 'gold']\n",
    "\n",
    "sns.set_style('white')\n",
    "sns.set_context('talk')\n",
    "\n",
    "overall = sns.barplot(data = df4, x = 'Percentage', y =  'Availability', ci=None, palette=colors)\n",
    "\n",
    "plt.yticks(fontsize=14)\n",
    "plt.xticks(fontsize=14)\n",
    "plt.ylabel('')\n",
    "plt.xlabel('Percentage',fontsize=14)\n",
    "plt.xlim(xmax=60)\n",
    "\n",
    "##to get horizontal barplot with percentage\n",
    "for p in ax.patches:\n",
    "    width = p.get_width()    # get bar length\n",
    "    ax.text(width + 1,       # set the text at 1 unit right of the bar\n",
    "            p.get_y() + p.get_height() / 2, # get Y coordinate + X coordinate / 2\n",
    "            '{:1.1f}'.format(width)+'%', # set variable to display, 2 decimals\n",
    "            ha = 'left',   # horizontal alignment\n",
    "            va = 'center', fontsize=14)  # vertical alignment\n",
    "\n",
    "sns.despine()"
   ]
  },
  {
   "cell_type": "code",
   "execution_count": 133,
   "metadata": {},
   "outputs": [
    {
     "data": {
      "application/vnd.plotly.v1+json": {
       "config": {
        "plotlyServerURL": "https://plot.ly"
       },
       "data": [
        {
         "link": {
          "source": [
           0,
           0,
           1,
           1
          ],
          "target": [
           2,
           3,
           2,
           3
          ],
          "value": [
           16,
           7,
           5,
           22
          ]
         },
         "node": {
          "color": [
           "blue",
           "green",
           "red",
           "yellow"
          ],
          "label": [
           "With Code Avability",
           "Without Code Avability",
           "Code Shared",
           "Code not shared"
          ],
          "line": {
           "color": "black",
           "width": 0.5
          },
          "pad": 15,
          "thickness": 20
         },
         "type": "sankey"
        }
       ],
       "layout": {
        "font": {
         "size": 10
        },
        "template": {
         "data": {
          "bar": [
           {
            "error_x": {
             "color": "#2a3f5f"
            },
            "error_y": {
             "color": "#2a3f5f"
            },
            "marker": {
             "line": {
              "color": "#E5ECF6",
              "width": 0.5
             },
             "pattern": {
              "fillmode": "overlay",
              "size": 10,
              "solidity": 0.2
             }
            },
            "type": "bar"
           }
          ],
          "barpolar": [
           {
            "marker": {
             "line": {
              "color": "#E5ECF6",
              "width": 0.5
             },
             "pattern": {
              "fillmode": "overlay",
              "size": 10,
              "solidity": 0.2
             }
            },
            "type": "barpolar"
           }
          ],
          "carpet": [
           {
            "aaxis": {
             "endlinecolor": "#2a3f5f",
             "gridcolor": "white",
             "linecolor": "white",
             "minorgridcolor": "white",
             "startlinecolor": "#2a3f5f"
            },
            "baxis": {
             "endlinecolor": "#2a3f5f",
             "gridcolor": "white",
             "linecolor": "white",
             "minorgridcolor": "white",
             "startlinecolor": "#2a3f5f"
            },
            "type": "carpet"
           }
          ],
          "choropleth": [
           {
            "colorbar": {
             "outlinewidth": 0,
             "ticks": ""
            },
            "type": "choropleth"
           }
          ],
          "contour": [
           {
            "colorbar": {
             "outlinewidth": 0,
             "ticks": ""
            },
            "colorscale": [
             [
              0,
              "#0d0887"
             ],
             [
              0.1111111111111111,
              "#46039f"
             ],
             [
              0.2222222222222222,
              "#7201a8"
             ],
             [
              0.3333333333333333,
              "#9c179e"
             ],
             [
              0.4444444444444444,
              "#bd3786"
             ],
             [
              0.5555555555555556,
              "#d8576b"
             ],
             [
              0.6666666666666666,
              "#ed7953"
             ],
             [
              0.7777777777777778,
              "#fb9f3a"
             ],
             [
              0.8888888888888888,
              "#fdca26"
             ],
             [
              1,
              "#f0f921"
             ]
            ],
            "type": "contour"
           }
          ],
          "contourcarpet": [
           {
            "colorbar": {
             "outlinewidth": 0,
             "ticks": ""
            },
            "type": "contourcarpet"
           }
          ],
          "heatmap": [
           {
            "colorbar": {
             "outlinewidth": 0,
             "ticks": ""
            },
            "colorscale": [
             [
              0,
              "#0d0887"
             ],
             [
              0.1111111111111111,
              "#46039f"
             ],
             [
              0.2222222222222222,
              "#7201a8"
             ],
             [
              0.3333333333333333,
              "#9c179e"
             ],
             [
              0.4444444444444444,
              "#bd3786"
             ],
             [
              0.5555555555555556,
              "#d8576b"
             ],
             [
              0.6666666666666666,
              "#ed7953"
             ],
             [
              0.7777777777777778,
              "#fb9f3a"
             ],
             [
              0.8888888888888888,
              "#fdca26"
             ],
             [
              1,
              "#f0f921"
             ]
            ],
            "type": "heatmap"
           }
          ],
          "heatmapgl": [
           {
            "colorbar": {
             "outlinewidth": 0,
             "ticks": ""
            },
            "colorscale": [
             [
              0,
              "#0d0887"
             ],
             [
              0.1111111111111111,
              "#46039f"
             ],
             [
              0.2222222222222222,
              "#7201a8"
             ],
             [
              0.3333333333333333,
              "#9c179e"
             ],
             [
              0.4444444444444444,
              "#bd3786"
             ],
             [
              0.5555555555555556,
              "#d8576b"
             ],
             [
              0.6666666666666666,
              "#ed7953"
             ],
             [
              0.7777777777777778,
              "#fb9f3a"
             ],
             [
              0.8888888888888888,
              "#fdca26"
             ],
             [
              1,
              "#f0f921"
             ]
            ],
            "type": "heatmapgl"
           }
          ],
          "histogram": [
           {
            "marker": {
             "pattern": {
              "fillmode": "overlay",
              "size": 10,
              "solidity": 0.2
             }
            },
            "type": "histogram"
           }
          ],
          "histogram2d": [
           {
            "colorbar": {
             "outlinewidth": 0,
             "ticks": ""
            },
            "colorscale": [
             [
              0,
              "#0d0887"
             ],
             [
              0.1111111111111111,
              "#46039f"
             ],
             [
              0.2222222222222222,
              "#7201a8"
             ],
             [
              0.3333333333333333,
              "#9c179e"
             ],
             [
              0.4444444444444444,
              "#bd3786"
             ],
             [
              0.5555555555555556,
              "#d8576b"
             ],
             [
              0.6666666666666666,
              "#ed7953"
             ],
             [
              0.7777777777777778,
              "#fb9f3a"
             ],
             [
              0.8888888888888888,
              "#fdca26"
             ],
             [
              1,
              "#f0f921"
             ]
            ],
            "type": "histogram2d"
           }
          ],
          "histogram2dcontour": [
           {
            "colorbar": {
             "outlinewidth": 0,
             "ticks": ""
            },
            "colorscale": [
             [
              0,
              "#0d0887"
             ],
             [
              0.1111111111111111,
              "#46039f"
             ],
             [
              0.2222222222222222,
              "#7201a8"
             ],
             [
              0.3333333333333333,
              "#9c179e"
             ],
             [
              0.4444444444444444,
              "#bd3786"
             ],
             [
              0.5555555555555556,
              "#d8576b"
             ],
             [
              0.6666666666666666,
              "#ed7953"
             ],
             [
              0.7777777777777778,
              "#fb9f3a"
             ],
             [
              0.8888888888888888,
              "#fdca26"
             ],
             [
              1,
              "#f0f921"
             ]
            ],
            "type": "histogram2dcontour"
           }
          ],
          "mesh3d": [
           {
            "colorbar": {
             "outlinewidth": 0,
             "ticks": ""
            },
            "type": "mesh3d"
           }
          ],
          "parcoords": [
           {
            "line": {
             "colorbar": {
              "outlinewidth": 0,
              "ticks": ""
             }
            },
            "type": "parcoords"
           }
          ],
          "pie": [
           {
            "automargin": true,
            "type": "pie"
           }
          ],
          "scatter": [
           {
            "fillpattern": {
             "fillmode": "overlay",
             "size": 10,
             "solidity": 0.2
            },
            "type": "scatter"
           }
          ],
          "scatter3d": [
           {
            "line": {
             "colorbar": {
              "outlinewidth": 0,
              "ticks": ""
             }
            },
            "marker": {
             "colorbar": {
              "outlinewidth": 0,
              "ticks": ""
             }
            },
            "type": "scatter3d"
           }
          ],
          "scattercarpet": [
           {
            "marker": {
             "colorbar": {
              "outlinewidth": 0,
              "ticks": ""
             }
            },
            "type": "scattercarpet"
           }
          ],
          "scattergeo": [
           {
            "marker": {
             "colorbar": {
              "outlinewidth": 0,
              "ticks": ""
             }
            },
            "type": "scattergeo"
           }
          ],
          "scattergl": [
           {
            "marker": {
             "colorbar": {
              "outlinewidth": 0,
              "ticks": ""
             }
            },
            "type": "scattergl"
           }
          ],
          "scattermapbox": [
           {
            "marker": {
             "colorbar": {
              "outlinewidth": 0,
              "ticks": ""
             }
            },
            "type": "scattermapbox"
           }
          ],
          "scatterpolar": [
           {
            "marker": {
             "colorbar": {
              "outlinewidth": 0,
              "ticks": ""
             }
            },
            "type": "scatterpolar"
           }
          ],
          "scatterpolargl": [
           {
            "marker": {
             "colorbar": {
              "outlinewidth": 0,
              "ticks": ""
             }
            },
            "type": "scatterpolargl"
           }
          ],
          "scatterternary": [
           {
            "marker": {
             "colorbar": {
              "outlinewidth": 0,
              "ticks": ""
             }
            },
            "type": "scatterternary"
           }
          ],
          "surface": [
           {
            "colorbar": {
             "outlinewidth": 0,
             "ticks": ""
            },
            "colorscale": [
             [
              0,
              "#0d0887"
             ],
             [
              0.1111111111111111,
              "#46039f"
             ],
             [
              0.2222222222222222,
              "#7201a8"
             ],
             [
              0.3333333333333333,
              "#9c179e"
             ],
             [
              0.4444444444444444,
              "#bd3786"
             ],
             [
              0.5555555555555556,
              "#d8576b"
             ],
             [
              0.6666666666666666,
              "#ed7953"
             ],
             [
              0.7777777777777778,
              "#fb9f3a"
             ],
             [
              0.8888888888888888,
              "#fdca26"
             ],
             [
              1,
              "#f0f921"
             ]
            ],
            "type": "surface"
           }
          ],
          "table": [
           {
            "cells": {
             "fill": {
              "color": "#EBF0F8"
             },
             "line": {
              "color": "white"
             }
            },
            "header": {
             "fill": {
              "color": "#C8D4E3"
             },
             "line": {
              "color": "white"
             }
            },
            "type": "table"
           }
          ]
         },
         "layout": {
          "annotationdefaults": {
           "arrowcolor": "#2a3f5f",
           "arrowhead": 0,
           "arrowwidth": 1
          },
          "autotypenumbers": "strict",
          "coloraxis": {
           "colorbar": {
            "outlinewidth": 0,
            "ticks": ""
           }
          },
          "colorscale": {
           "diverging": [
            [
             0,
             "#8e0152"
            ],
            [
             0.1,
             "#c51b7d"
            ],
            [
             0.2,
             "#de77ae"
            ],
            [
             0.3,
             "#f1b6da"
            ],
            [
             0.4,
             "#fde0ef"
            ],
            [
             0.5,
             "#f7f7f7"
            ],
            [
             0.6,
             "#e6f5d0"
            ],
            [
             0.7,
             "#b8e186"
            ],
            [
             0.8,
             "#7fbc41"
            ],
            [
             0.9,
             "#4d9221"
            ],
            [
             1,
             "#276419"
            ]
           ],
           "sequential": [
            [
             0,
             "#0d0887"
            ],
            [
             0.1111111111111111,
             "#46039f"
            ],
            [
             0.2222222222222222,
             "#7201a8"
            ],
            [
             0.3333333333333333,
             "#9c179e"
            ],
            [
             0.4444444444444444,
             "#bd3786"
            ],
            [
             0.5555555555555556,
             "#d8576b"
            ],
            [
             0.6666666666666666,
             "#ed7953"
            ],
            [
             0.7777777777777778,
             "#fb9f3a"
            ],
            [
             0.8888888888888888,
             "#fdca26"
            ],
            [
             1,
             "#f0f921"
            ]
           ],
           "sequentialminus": [
            [
             0,
             "#0d0887"
            ],
            [
             0.1111111111111111,
             "#46039f"
            ],
            [
             0.2222222222222222,
             "#7201a8"
            ],
            [
             0.3333333333333333,
             "#9c179e"
            ],
            [
             0.4444444444444444,
             "#bd3786"
            ],
            [
             0.5555555555555556,
             "#d8576b"
            ],
            [
             0.6666666666666666,
             "#ed7953"
            ],
            [
             0.7777777777777778,
             "#fb9f3a"
            ],
            [
             0.8888888888888888,
             "#fdca26"
            ],
            [
             1,
             "#f0f921"
            ]
           ]
          },
          "colorway": [
           "#636efa",
           "#EF553B",
           "#00cc96",
           "#ab63fa",
           "#FFA15A",
           "#19d3f3",
           "#FF6692",
           "#B6E880",
           "#FF97FF",
           "#FECB52"
          ],
          "font": {
           "color": "#2a3f5f"
          },
          "geo": {
           "bgcolor": "white",
           "lakecolor": "white",
           "landcolor": "#E5ECF6",
           "showlakes": true,
           "showland": true,
           "subunitcolor": "white"
          },
          "hoverlabel": {
           "align": "left"
          },
          "hovermode": "closest",
          "mapbox": {
           "style": "light"
          },
          "paper_bgcolor": "white",
          "plot_bgcolor": "#E5ECF6",
          "polar": {
           "angularaxis": {
            "gridcolor": "white",
            "linecolor": "white",
            "ticks": ""
           },
           "bgcolor": "#E5ECF6",
           "radialaxis": {
            "gridcolor": "white",
            "linecolor": "white",
            "ticks": ""
           }
          },
          "scene": {
           "xaxis": {
            "backgroundcolor": "#E5ECF6",
            "gridcolor": "white",
            "gridwidth": 2,
            "linecolor": "white",
            "showbackground": true,
            "ticks": "",
            "zerolinecolor": "white"
           },
           "yaxis": {
            "backgroundcolor": "#E5ECF6",
            "gridcolor": "white",
            "gridwidth": 2,
            "linecolor": "white",
            "showbackground": true,
            "ticks": "",
            "zerolinecolor": "white"
           },
           "zaxis": {
            "backgroundcolor": "#E5ECF6",
            "gridcolor": "white",
            "gridwidth": 2,
            "linecolor": "white",
            "showbackground": true,
            "ticks": "",
            "zerolinecolor": "white"
           }
          },
          "shapedefaults": {
           "line": {
            "color": "#2a3f5f"
           }
          },
          "ternary": {
           "aaxis": {
            "gridcolor": "white",
            "linecolor": "white",
            "ticks": ""
           },
           "baxis": {
            "gridcolor": "white",
            "linecolor": "white",
            "ticks": ""
           },
           "bgcolor": "#E5ECF6",
           "caxis": {
            "gridcolor": "white",
            "linecolor": "white",
            "ticks": ""
           }
          },
          "title": {
           "x": 0.05
          },
          "xaxis": {
           "automargin": true,
           "gridcolor": "white",
           "linecolor": "white",
           "ticks": "",
           "title": {
            "standoff": 15
           },
           "zerolinecolor": "white",
           "zerolinewidth": 2
          },
          "yaxis": {
           "automargin": true,
           "gridcolor": "white",
           "linecolor": "white",
           "ticks": "",
           "title": {
            "standoff": 15
           },
           "zerolinecolor": "white",
           "zerolinewidth": 2
          }
         }
        },
        "title": {
         "text": "Basic Sankey Diagram"
        }
       }
      },
      "text/html": [
       "<div>                            <div id=\"ed98767c-5c3a-435e-ab08-c84f91e556b2\" class=\"plotly-graph-div\" style=\"height:525px; width:100%;\"></div>            <script type=\"text/javascript\">                require([\"plotly\"], function(Plotly) {                    window.PLOTLYENV=window.PLOTLYENV || {};                                    if (document.getElementById(\"ed98767c-5c3a-435e-ab08-c84f91e556b2\")) {                    Plotly.newPlot(                        \"ed98767c-5c3a-435e-ab08-c84f91e556b2\",                        [{\"link\":{\"source\":[0,0,1,1],\"target\":[2,3,2,3],\"value\":[16,7,5,22]},\"node\":{\"color\":[\"blue\",\"green\",\"red\",\"yellow\"],\"label\":[\"With Code Avability\",\"Without Code Avability\",\"Code Shared\",\"Code not shared\"],\"line\":{\"color\":\"black\",\"width\":0.5},\"pad\":15,\"thickness\":20},\"type\":\"sankey\"}],                        {\"template\":{\"data\":{\"histogram2dcontour\":[{\"type\":\"histogram2dcontour\",\"colorbar\":{\"outlinewidth\":0,\"ticks\":\"\"},\"colorscale\":[[0.0,\"#0d0887\"],[0.1111111111111111,\"#46039f\"],[0.2222222222222222,\"#7201a8\"],[0.3333333333333333,\"#9c179e\"],[0.4444444444444444,\"#bd3786\"],[0.5555555555555556,\"#d8576b\"],[0.6666666666666666,\"#ed7953\"],[0.7777777777777778,\"#fb9f3a\"],[0.8888888888888888,\"#fdca26\"],[1.0,\"#f0f921\"]]}],\"choropleth\":[{\"type\":\"choropleth\",\"colorbar\":{\"outlinewidth\":0,\"ticks\":\"\"}}],\"histogram2d\":[{\"type\":\"histogram2d\",\"colorbar\":{\"outlinewidth\":0,\"ticks\":\"\"},\"colorscale\":[[0.0,\"#0d0887\"],[0.1111111111111111,\"#46039f\"],[0.2222222222222222,\"#7201a8\"],[0.3333333333333333,\"#9c179e\"],[0.4444444444444444,\"#bd3786\"],[0.5555555555555556,\"#d8576b\"],[0.6666666666666666,\"#ed7953\"],[0.7777777777777778,\"#fb9f3a\"],[0.8888888888888888,\"#fdca26\"],[1.0,\"#f0f921\"]]}],\"heatmap\":[{\"type\":\"heatmap\",\"colorbar\":{\"outlinewidth\":0,\"ticks\":\"\"},\"colorscale\":[[0.0,\"#0d0887\"],[0.1111111111111111,\"#46039f\"],[0.2222222222222222,\"#7201a8\"],[0.3333333333333333,\"#9c179e\"],[0.4444444444444444,\"#bd3786\"],[0.5555555555555556,\"#d8576b\"],[0.6666666666666666,\"#ed7953\"],[0.7777777777777778,\"#fb9f3a\"],[0.8888888888888888,\"#fdca26\"],[1.0,\"#f0f921\"]]}],\"heatmapgl\":[{\"type\":\"heatmapgl\",\"colorbar\":{\"outlinewidth\":0,\"ticks\":\"\"},\"colorscale\":[[0.0,\"#0d0887\"],[0.1111111111111111,\"#46039f\"],[0.2222222222222222,\"#7201a8\"],[0.3333333333333333,\"#9c179e\"],[0.4444444444444444,\"#bd3786\"],[0.5555555555555556,\"#d8576b\"],[0.6666666666666666,\"#ed7953\"],[0.7777777777777778,\"#fb9f3a\"],[0.8888888888888888,\"#fdca26\"],[1.0,\"#f0f921\"]]}],\"contourcarpet\":[{\"type\":\"contourcarpet\",\"colorbar\":{\"outlinewidth\":0,\"ticks\":\"\"}}],\"contour\":[{\"type\":\"contour\",\"colorbar\":{\"outlinewidth\":0,\"ticks\":\"\"},\"colorscale\":[[0.0,\"#0d0887\"],[0.1111111111111111,\"#46039f\"],[0.2222222222222222,\"#7201a8\"],[0.3333333333333333,\"#9c179e\"],[0.4444444444444444,\"#bd3786\"],[0.5555555555555556,\"#d8576b\"],[0.6666666666666666,\"#ed7953\"],[0.7777777777777778,\"#fb9f3a\"],[0.8888888888888888,\"#fdca26\"],[1.0,\"#f0f921\"]]}],\"surface\":[{\"type\":\"surface\",\"colorbar\":{\"outlinewidth\":0,\"ticks\":\"\"},\"colorscale\":[[0.0,\"#0d0887\"],[0.1111111111111111,\"#46039f\"],[0.2222222222222222,\"#7201a8\"],[0.3333333333333333,\"#9c179e\"],[0.4444444444444444,\"#bd3786\"],[0.5555555555555556,\"#d8576b\"],[0.6666666666666666,\"#ed7953\"],[0.7777777777777778,\"#fb9f3a\"],[0.8888888888888888,\"#fdca26\"],[1.0,\"#f0f921\"]]}],\"mesh3d\":[{\"type\":\"mesh3d\",\"colorbar\":{\"outlinewidth\":0,\"ticks\":\"\"}}],\"scatter\":[{\"fillpattern\":{\"fillmode\":\"overlay\",\"size\":10,\"solidity\":0.2},\"type\":\"scatter\"}],\"parcoords\":[{\"type\":\"parcoords\",\"line\":{\"colorbar\":{\"outlinewidth\":0,\"ticks\":\"\"}}}],\"scatterpolargl\":[{\"type\":\"scatterpolargl\",\"marker\":{\"colorbar\":{\"outlinewidth\":0,\"ticks\":\"\"}}}],\"bar\":[{\"error_x\":{\"color\":\"#2a3f5f\"},\"error_y\":{\"color\":\"#2a3f5f\"},\"marker\":{\"line\":{\"color\":\"#E5ECF6\",\"width\":0.5},\"pattern\":{\"fillmode\":\"overlay\",\"size\":10,\"solidity\":0.2}},\"type\":\"bar\"}],\"scattergeo\":[{\"type\":\"scattergeo\",\"marker\":{\"colorbar\":{\"outlinewidth\":0,\"ticks\":\"\"}}}],\"scatterpolar\":[{\"type\":\"scatterpolar\",\"marker\":{\"colorbar\":{\"outlinewidth\":0,\"ticks\":\"\"}}}],\"histogram\":[{\"marker\":{\"pattern\":{\"fillmode\":\"overlay\",\"size\":10,\"solidity\":0.2}},\"type\":\"histogram\"}],\"scattergl\":[{\"type\":\"scattergl\",\"marker\":{\"colorbar\":{\"outlinewidth\":0,\"ticks\":\"\"}}}],\"scatter3d\":[{\"type\":\"scatter3d\",\"line\":{\"colorbar\":{\"outlinewidth\":0,\"ticks\":\"\"}},\"marker\":{\"colorbar\":{\"outlinewidth\":0,\"ticks\":\"\"}}}],\"scattermapbox\":[{\"type\":\"scattermapbox\",\"marker\":{\"colorbar\":{\"outlinewidth\":0,\"ticks\":\"\"}}}],\"scatterternary\":[{\"type\":\"scatterternary\",\"marker\":{\"colorbar\":{\"outlinewidth\":0,\"ticks\":\"\"}}}],\"scattercarpet\":[{\"type\":\"scattercarpet\",\"marker\":{\"colorbar\":{\"outlinewidth\":0,\"ticks\":\"\"}}}],\"carpet\":[{\"aaxis\":{\"endlinecolor\":\"#2a3f5f\",\"gridcolor\":\"white\",\"linecolor\":\"white\",\"minorgridcolor\":\"white\",\"startlinecolor\":\"#2a3f5f\"},\"baxis\":{\"endlinecolor\":\"#2a3f5f\",\"gridcolor\":\"white\",\"linecolor\":\"white\",\"minorgridcolor\":\"white\",\"startlinecolor\":\"#2a3f5f\"},\"type\":\"carpet\"}],\"table\":[{\"cells\":{\"fill\":{\"color\":\"#EBF0F8\"},\"line\":{\"color\":\"white\"}},\"header\":{\"fill\":{\"color\":\"#C8D4E3\"},\"line\":{\"color\":\"white\"}},\"type\":\"table\"}],\"barpolar\":[{\"marker\":{\"line\":{\"color\":\"#E5ECF6\",\"width\":0.5},\"pattern\":{\"fillmode\":\"overlay\",\"size\":10,\"solidity\":0.2}},\"type\":\"barpolar\"}],\"pie\":[{\"automargin\":true,\"type\":\"pie\"}]},\"layout\":{\"autotypenumbers\":\"strict\",\"colorway\":[\"#636efa\",\"#EF553B\",\"#00cc96\",\"#ab63fa\",\"#FFA15A\",\"#19d3f3\",\"#FF6692\",\"#B6E880\",\"#FF97FF\",\"#FECB52\"],\"font\":{\"color\":\"#2a3f5f\"},\"hovermode\":\"closest\",\"hoverlabel\":{\"align\":\"left\"},\"paper_bgcolor\":\"white\",\"plot_bgcolor\":\"#E5ECF6\",\"polar\":{\"bgcolor\":\"#E5ECF6\",\"angularaxis\":{\"gridcolor\":\"white\",\"linecolor\":\"white\",\"ticks\":\"\"},\"radialaxis\":{\"gridcolor\":\"white\",\"linecolor\":\"white\",\"ticks\":\"\"}},\"ternary\":{\"bgcolor\":\"#E5ECF6\",\"aaxis\":{\"gridcolor\":\"white\",\"linecolor\":\"white\",\"ticks\":\"\"},\"baxis\":{\"gridcolor\":\"white\",\"linecolor\":\"white\",\"ticks\":\"\"},\"caxis\":{\"gridcolor\":\"white\",\"linecolor\":\"white\",\"ticks\":\"\"}},\"coloraxis\":{\"colorbar\":{\"outlinewidth\":0,\"ticks\":\"\"}},\"colorscale\":{\"sequential\":[[0.0,\"#0d0887\"],[0.1111111111111111,\"#46039f\"],[0.2222222222222222,\"#7201a8\"],[0.3333333333333333,\"#9c179e\"],[0.4444444444444444,\"#bd3786\"],[0.5555555555555556,\"#d8576b\"],[0.6666666666666666,\"#ed7953\"],[0.7777777777777778,\"#fb9f3a\"],[0.8888888888888888,\"#fdca26\"],[1.0,\"#f0f921\"]],\"sequentialminus\":[[0.0,\"#0d0887\"],[0.1111111111111111,\"#46039f\"],[0.2222222222222222,\"#7201a8\"],[0.3333333333333333,\"#9c179e\"],[0.4444444444444444,\"#bd3786\"],[0.5555555555555556,\"#d8576b\"],[0.6666666666666666,\"#ed7953\"],[0.7777777777777778,\"#fb9f3a\"],[0.8888888888888888,\"#fdca26\"],[1.0,\"#f0f921\"]],\"diverging\":[[0,\"#8e0152\"],[0.1,\"#c51b7d\"],[0.2,\"#de77ae\"],[0.3,\"#f1b6da\"],[0.4,\"#fde0ef\"],[0.5,\"#f7f7f7\"],[0.6,\"#e6f5d0\"],[0.7,\"#b8e186\"],[0.8,\"#7fbc41\"],[0.9,\"#4d9221\"],[1,\"#276419\"]]},\"xaxis\":{\"gridcolor\":\"white\",\"linecolor\":\"white\",\"ticks\":\"\",\"title\":{\"standoff\":15},\"zerolinecolor\":\"white\",\"automargin\":true,\"zerolinewidth\":2},\"yaxis\":{\"gridcolor\":\"white\",\"linecolor\":\"white\",\"ticks\":\"\",\"title\":{\"standoff\":15},\"zerolinecolor\":\"white\",\"automargin\":true,\"zerolinewidth\":2},\"scene\":{\"xaxis\":{\"backgroundcolor\":\"#E5ECF6\",\"gridcolor\":\"white\",\"linecolor\":\"white\",\"showbackground\":true,\"ticks\":\"\",\"zerolinecolor\":\"white\",\"gridwidth\":2},\"yaxis\":{\"backgroundcolor\":\"#E5ECF6\",\"gridcolor\":\"white\",\"linecolor\":\"white\",\"showbackground\":true,\"ticks\":\"\",\"zerolinecolor\":\"white\",\"gridwidth\":2},\"zaxis\":{\"backgroundcolor\":\"#E5ECF6\",\"gridcolor\":\"white\",\"linecolor\":\"white\",\"showbackground\":true,\"ticks\":\"\",\"zerolinecolor\":\"white\",\"gridwidth\":2}},\"shapedefaults\":{\"line\":{\"color\":\"#2a3f5f\"}},\"annotationdefaults\":{\"arrowcolor\":\"#2a3f5f\",\"arrowhead\":0,\"arrowwidth\":1},\"geo\":{\"bgcolor\":\"white\",\"landcolor\":\"#E5ECF6\",\"subunitcolor\":\"white\",\"showland\":true,\"showlakes\":true,\"lakecolor\":\"white\"},\"title\":{\"x\":0.05},\"mapbox\":{\"style\":\"light\"}}},\"title\":{\"text\":\"Basic Sankey Diagram\"},\"font\":{\"size\":10}},                        {\"responsive\": true}                    ).then(function(){\n",
       "                            \n",
       "var gd = document.getElementById('ed98767c-5c3a-435e-ab08-c84f91e556b2');\n",
       "var x = new MutationObserver(function (mutations, observer) {{\n",
       "        var display = window.getComputedStyle(gd).display;\n",
       "        if (!display || display === 'none') {{\n",
       "            console.log([gd, 'removed!']);\n",
       "            Plotly.purge(gd);\n",
       "            observer.disconnect();\n",
       "        }}\n",
       "}});\n",
       "\n",
       "// Listen for the removal of the full notebook cells\n",
       "var notebookContainer = gd.closest('#notebook-container');\n",
       "if (notebookContainer) {{\n",
       "    x.observe(notebookContainer, {childList: true});\n",
       "}}\n",
       "\n",
       "// Listen for the clearing of the current output cell\n",
       "var outputEl = gd.closest('.output');\n",
       "if (outputEl) {{\n",
       "    x.observe(outputEl, {childList: true});\n",
       "}}\n",
       "\n",
       "                        })                };                });            </script>        </div>"
      ]
     },
     "metadata": {},
     "output_type": "display_data"
    }
   ],
   "source": [
    "import plotly.graph_objects as go\n",
    "fig = go.Figure(data=[go.Sankey(\n",
    "    node = dict(\n",
    "      pad = 15,\n",
    "      thickness = 20,\n",
    "      line = dict(color = \"black\", width = 0.5),\n",
    "      label = [\"With Code Avability\", \"Without Code Avability\", \"Code Shared\", \"Code not shared\"],\n",
    "      color = [\"blue\",\"green\",\"red\",\"yellow\"]\n",
    "    ),\n",
    "    link = dict(\n",
    "      source = [0, 0,1,1], # indices correspond to labels, eg A1, A2, A1, B1, ...\n",
    "      target = [2,3,2,3],\n",
    "      value = [16, 7,5,22]\n",
    "  ))])\n",
    "fig.update_layout(title_text=\"Basic Sankey Diagram\", font_size=10)\n",
    "fig.show()"
   ]
  },
  {
   "cell_type": "code",
   "execution_count": null,
   "metadata": {},
   "outputs": [],
   "source": []
  },
  {
   "cell_type": "code",
   "execution_count": null,
   "metadata": {},
   "outputs": [],
   "source": []
  }
 ],
 "metadata": {
  "kernelspec": {
   "display_name": "Python 3",
   "language": "python",
   "name": "python3"
  },
  "language_info": {
   "codemirror_mode": {
    "name": "ipython",
    "version": 3
   },
   "file_extension": ".py",
   "mimetype": "text/x-python",
   "name": "python",
   "nbconvert_exporter": "python",
   "pygments_lexer": "ipython3",
   "version": "3.7.4"
  }
 },
 "nbformat": 4,
 "nbformat_minor": 5
}
